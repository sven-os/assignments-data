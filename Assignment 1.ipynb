{
 "cells": [
  {
   "cell_type": "markdown",
   "id": "fdb7a444",
   "metadata": {},
   "source": [
    "# Assignment 1\n",
    "\n",
    "## Python Variables\n",
    "\n",
    "### 1.1 \n",
    "Assign the values “silver” and “Audi” to variables “color” and “brand” respectively. Use both variables to print the following sentence: \"This silver audi is my car\"."
   ]
  },
  {
   "cell_type": "code",
   "execution_count": 1,
   "id": "66eb4814",
   "metadata": {},
   "outputs": [
    {
     "name": "stdout",
     "output_type": "stream",
     "text": [
      "This silver audi is my car.\n"
     ]
    }
   ],
   "source": [
    "color = \"silver\" # Eine Variable \"color\" wird der Wert \"silver\" zugewiesen.\n",
    "brand = \"Audi\" # Einer Variable \"brand\" wird der Wert \"Audi\" zugewiesen.\n",
    "# Der Satz wird ausgegeben. Der String, der der Variable \"brand\" zugewiesen \n",
    "#ist wird mit der Methode .lower() in Kleinbuchstaben umgewandelt.\n",
    "print(\"This \"+color+\" \"+brand.lower()+\" is my car.\")  \n"
   ]
  },
  {
   "cell_type": "markdown",
   "id": "74a471a2",
   "metadata": {},
   "source": [
    "    \n",
    "### 1.2 \n",
    "Display the result of the following expression using variables for each number: (15+6)*7\n"
   ]
  },
  {
   "cell_type": "code",
   "execution_count": 2,
   "id": "9536d265",
   "metadata": {},
   "outputs": [
    {
     "name": "stdout",
     "output_type": "stream",
     "text": [
      "147\n"
     ]
    }
   ],
   "source": [
    "a = 15          # Eine Variable \"a\" wird der Wert 15 zugewiesen.\n",
    "b = 6           # Eine Variable \"b\" wird der Wert 6 zugewiesen.\n",
    "c = 7           # Eine Variable \"c\" wird der Wert 7 zugewiesen.\n",
    "print((a+b)*c)  # Die Summe von \"a\" und \"b\" wird mit \"c\" multipliziert und das Ergebnis wird ausgegeben.\n"
   ]
  },
  {
   "cell_type": "markdown",
   "id": "2f55a281",
   "metadata": {},
   "source": [
    "## Python Strings\n",
    "\n",
    "### 2.1\n",
    "Given the following string:\n",
    "text=\"The most popular programming languages are: Python,Java,JavaScript and C#\"\n",
    "\n",
    "    a) Add a space after each comma and assign it to the variable text\n",
    "    b) Add the following string to the variable text and print it out: \", according to TIOBE Index and \n",
    "    PYPL\""
   ]
  },
  {
   "cell_type": "code",
   "execution_count": 3,
   "id": "89185d81",
   "metadata": {},
   "outputs": [
    {
     "name": "stdout",
     "output_type": "stream",
     "text": [
      "The most popular programming languages are: Python, Java, JavaScript and C#, according to TIOBE Index and PYPL\n"
     ]
    }
   ],
   "source": [
    "# Der Text wird der Variable \"text\" zugewiesen.\n",
    "text = \"The most popular programming languages are: Python,Java,JavaScript and C#\"  \n",
    "\n",
    "# Die Methode .replace() wird verwendet, um alle Kommas im Text durch Kommas mit Leerzeichen zu ersetzen.\n",
    "text = text.replace(\",\", \", \")\n",
    "\n",
    "# Der Text wird um \", according to TIOBE Index and PYPL\" erweitert.\n",
    "text += \", according to TIOBE Index and PYPL\"\n",
    "\n",
    "print(text)  # Der veränderte Text wird ausgegeben.\n"
   ]
  },
  {
   "cell_type": "markdown",
   "id": "86a3d92a",
   "metadata": {},
   "source": [
    "### 2.2 \n",
    "With the following string given: mystring = \"THIS IS A STRING IN LOWER CASE. and this is a string in upper case\"\n",
    "\n",
    "Convert the string to the correct form: first sentence should be in lower case and the second sentence in upper case.\n",
    "\n",
    "Display correct string."
   ]
  },
  {
   "cell_type": "code",
   "execution_count": 4,
   "id": "8fbc658b",
   "metadata": {},
   "outputs": [
    {
     "name": "stdout",
     "output_type": "stream",
     "text": [
      "this is a string in lower case. AND THIS IS A STRING IN UPPER CASE\n"
     ]
    }
   ],
   "source": [
    "# Der Text wird der Variable \"mystring\" zugewiesen.\n",
    "mystring = \"THIS IS A STRING IN LOWER CASE. and this is a string in upper case\"  \n",
    "\n",
    "# Die Methode .swapcase() wird auf \"mystring\" angewendet, um Großbuchstaben in Kleinbuchstaben und umgekehrt zu konvertieren.\n",
    "mystring = mystring.swapcase()\n",
    "\n",
    "print(mystring)  # Der veränderte Text wird ausgegeben.\n"
   ]
  },
  {
   "cell_type": "markdown",
   "id": "374f05bf",
   "metadata": {},
   "source": [
    "## 3. Python Lists, Sets, Tuples, Dictionaries\n",
    "### 3.1 \n",
    "With a list given: ToDoList = [\"homework\", \"shopping\", \"meeting\"]\n",
    "\n",
    "    a) Change “shopping” to “cooking”\n",
    "    b) Use the append() method to add “chores” to the list\n"
   ]
  },
  {
   "cell_type": "code",
   "execution_count": 5,
   "id": "205ab2dc",
   "metadata": {},
   "outputs": [
    {
     "name": "stdout",
     "output_type": "stream",
     "text": [
      "['homework', 'cooking', 'meeting', 'chores']\n"
     ]
    }
   ],
   "source": [
    "ToDoList = [\"homework\", \"shopping\", \"meeting\"]  # Eine Liste \"ToDoList\" mit verschiedenen Aufgaben wird erstellt.\n",
    "\n",
    "# Das Element \"shopping\" wird durch \"cooking\" ersetzt, indem der Index des Strings \"shopping\" gesucht wird.\n",
    "ToDoList[ToDoList.index(\"shopping\")] = \"cooking\"\n",
    "\n",
    "ToDoList.append(\"chores\")  # Das Element \"chores\" wird der Liste hinzugefügt.\n",
    "\n",
    "print(ToDoList)  # Die aktualisierte ToDo-Liste wird ausgegeben.\n"
   ]
  },
  {
   "cell_type": "markdown",
   "id": "30a0a966",
   "metadata": {},
   "source": [
    "### 3.2 \n",
    "Return a new set with all items from both sets.:\n",
    "\n",
    "Sports1 = {\"curling\", \"skating\", \"skiing\"}\n",
    "\n",
    "Sports2 = {\"hockey\", \"luge\", \"short-track\"}"
   ]
  },
  {
   "cell_type": "code",
   "execution_count": 6,
   "id": "ea5b1c3f",
   "metadata": {},
   "outputs": [
    {
     "name": "stdout",
     "output_type": "stream",
     "text": [
      "{'skating', 'curling', 'short-track', 'luge', 'skiing', 'hockey'}\n"
     ]
    }
   ],
   "source": [
    "Sports1 = {\"curling\", \"skating\", \"skiing\"}  # Ein Set \"Sports1\" wird erstellt.\n",
    "Sports2 = {\"hockey\", \"luge\", \"short-track\"}  # Ein Set \"Sports2\" wird erstellt.\n",
    "\n",
    "# Die Sets \"Sports1\" und \"Sports2\" werden mit der .union() Methode zu einem Set zusammenzufügen.\n",
    "Sports = Sports1.union(Sports2)\n",
    "\n",
    "print(Sports)  # Das zusammengefügte Set \"Sports\" wird ausgegeben.\n"
   ]
  },
  {
   "cell_type": "markdown",
   "id": "af307219",
   "metadata": {},
   "source": [
    "### 3.3 \n",
    "Create a tuple containing following elements: Germany, Korea, Spain, Japan, France\n",
    "\n",
    "    a) Use negative indexing to access fourth element of the tuple\n",
    "    b) Use the range of indexes to print the first, third and fifth element of the tupl\n"
   ]
  },
  {
   "cell_type": "code",
   "execution_count": 7,
   "id": "fc91173e",
   "metadata": {},
   "outputs": [
    {
     "name": "stdout",
     "output_type": "stream",
     "text": [
      "a) Japan\n"
     ]
    }
   ],
   "source": [
    "countries = (\"Germany\", \"Korea\", \"Spain\", \"Japan\", \"France\")\n",
    "\n",
    "#Das vierte Elemt ist Japan. Um dieses mit negativer Indexierung anzusprechen muss das zweite Element von hinten gewählt werden.\n",
    "x = countries[-2]  \n",
    "\n",
    "print(\"a) \" + x)\n",
    "\n"
   ]
  },
  {
   "cell_type": "code",
   "execution_count": 8,
   "id": "f8ffe533",
   "metadata": {},
   "outputs": [
    {
     "name": "stdout",
     "output_type": "stream",
     "text": [
      "b) ('Germany', 'Spain', 'France')\n",
      "Germany, Spain, France\n"
     ]
    }
   ],
   "source": [
    "countries = (\"Germany\", \"Korea\", \"Spain\", \"Japan\", \"France\")\n",
    "\n",
    "#Es sind nur 5 Werte enthalten. Mit \"Slicing\" eines Tuples ist es möglich einen \"Step\"-Parameter anzugeben.\n",
    "print(\"b) \" + str(countries[0:5:2]))\n",
    "#Alternativ kann einfach auf einzelne Indizes zugegriffen werden\n",
    "print(countries[0] + \",\", countries[2] + \",\", countries[4])"
   ]
  },
  {
   "cell_type": "markdown",
   "id": "0940aa44",
   "metadata": {},
   "source": [
    "### 3.4\n",
    "The following dictionary is given:\n",
    "\n",
    "    ComputerScienceMA = {  \n",
    "     \"Name\": \"Computer Science (MA)\",\n",
    "     \"Type\": \"Master\",\n",
    "     \"Study Programm\": \"Fulltime\",\n",
    "     \"ECTS\": \"120\",\n",
    "     \"Degree\": \"Master of Science\"\n",
    "    }\n",
    "\n",
    "    a) Check that dictionary is NOT empty, using len() method\n",
    "    b) Iterate through the key:value pairs of dictionary"
   ]
  },
  {
   "cell_type": "code",
   "execution_count": 9,
   "id": "7cc2acfe",
   "metadata": {},
   "outputs": [
    {
     "name": "stdout",
     "output_type": "stream",
     "text": [
      "a) The dictionary is not empty.\n"
     ]
    }
   ],
   "source": [
    "#Dictionary erstellen\n",
    "ComputerScienceMA = {\n",
    "    \"Name\": \"Computer Science (MA)\",\n",
    "    \"Type\": \"Master\",\n",
    "    \"Study Program\": \"Fulltime\",\n",
    "    \"ECTS\": \"120\",\n",
    "    \"Degree\": \"Master of Science\"\n",
    "}\n",
    "\n",
    "# Überprüfen, ob das Dictionary \"ComputerScienceMA\" leer ist, indem die Länge geprüft wird.\n",
    "if len(ComputerScienceMA) > 0:\n",
    "    print(\"a) The dictionary is not empty.\")  # Das Dictionary ist nicht leer.\n",
    "else:\n",
    "    print(\"a) The dictionary is empty.\")  # Das Dictionary ist leer.\n"
   ]
  },
  {
   "cell_type": "code",
   "execution_count": 10,
   "id": "186fa258",
   "metadata": {},
   "outputs": [
    {
     "name": "stdout",
     "output_type": "stream",
     "text": [
      "Name: Computer Science (MA)\n",
      "Type: Master\n",
      "Study Program: Fulltime\n",
      "ECTS: 120\n",
      "Degree: Master of Science\n"
     ]
    }
   ],
   "source": [
    "# Mit einer for Schleife werden die Schlüssel und Werte ausgegeben.\n",
    "for x, y in ComputerScienceMA.items():\n",
    "  print(x + \": \" + y)"
   ]
  },
  {
   "cell_type": "markdown",
   "id": "ba0cfb38",
   "metadata": {},
   "source": [
    "## 4. Python NumPy\n",
    "### 4.1 \n",
    "Create 3-D numpy array of lengths 4, 2, 3 along the three dimensions with random values.:\n"
   ]
  },
  {
   "cell_type": "code",
   "execution_count": 11,
   "id": "726102c2",
   "metadata": {},
   "outputs": [
    {
     "name": "stdout",
     "output_type": "stream",
     "text": [
      "Dimensionen: 3\n",
      "Längen: (4, 2, 3)\n"
     ]
    }
   ],
   "source": [
    "import numpy as np\n",
    "\n",
    "# Es wird zufälliges Array mit 3 Dimensionen und den Längen 4, 2, 3 erstellt.\n",
    "randomArray = np.random.rand(4, 2, 3)\n",
    "\n",
    "# Die Dimensionen des Arrays und die Längen werden ausgegeben, auch um zu prüfen, ob es funktioniert hat.\n",
    "print(\"Dimensionen: \" + str(randomArray.ndim) + \"\\nLängen: \" + str(randomArray.shape))\n"
   ]
  },
  {
   "cell_type": "markdown",
   "id": "82258cd1",
   "metadata": {},
   "source": [
    "### 4.2 \n",
    "Given is the following 1D-Array:\n",
    "arr = np.array([1, 2, 3, 4, 5, 6, 7, 8])\n",
    "Copy the contents of the array \"arr\" to \"arr2\" so that even if the original array will be modified it won't \n",
    "affect the сontents of the copy (dublicated array)"
   ]
  },
  {
   "cell_type": "code",
   "execution_count": 12,
   "id": "5acf77de",
   "metadata": {},
   "outputs": [
    {
     "name": "stdout",
     "output_type": "stream",
     "text": [
      "arr: [10  2  3  4  5  6  7  8]\n",
      "arr2: [1 2 3 4 5 6 7 8]\n",
      "Die Arrays sind nicht gleich.\n"
     ]
    }
   ],
   "source": [
    "import numpy as np\n",
    "\n",
    "# Ein entsprechendes NumPy-Array \"arr\" wird erstellt.\n",
    "arr = np.array([1, 2, 3, 4, 5, 6, 7, 8])\n",
    "\n",
    "# Ein Kopie-Array \"arr2\" wird erstellt.\n",
    "arr2 = arr.copy()\n",
    "\n",
    "# Überprüfen, ob ich wirklich eine Kopie und kein View erstellt habe.\n",
    "arr[0] = 10\n",
    "\n",
    "# Beide Arrays werden ausgegeben.\n",
    "print(\"arr:\", arr)\n",
    "print(\"arr2:\", arr2)\n",
    "\n",
    "# Es wird überprüft, ob die beiden Arrays gleich sind.\n",
    "if np.array_equal(arr, arr2):\n",
    "    print(\"Die Arrays sind gleich.\")  # Ausgabe, dass die Arrays gleich sind.\n",
    "else:\n",
    "    print(\"Die Arrays sind nicht gleich.\")  # Ausgabe, dass die Arrays nicht gleich sind."
   ]
  },
  {
   "cell_type": "markdown",
   "id": "80e47ed6",
   "metadata": {},
   "source": [
    "## 5. Python Pandas\n",
    "### 5.1 \n",
    "Import all 3 provided Excel files (name.xlsx, land.xlsx and year.xlsx) using Pandas and combine \n",
    "them in one Dataframe."
   ]
  },
  {
   "cell_type": "code",
   "execution_count": 13,
   "id": "d2950cd3",
   "metadata": {},
   "outputs": [
    {
     "name": "stdout",
     "output_type": "stream",
     "text": [
      "    id         name         land  year\n",
      "0    1   univesity1      Germany  1974\n",
      "1    2   univesity2        Italy  1980\n",
      "2    3   univesity3      Germany  1970\n",
      "3    4   univesity4       France  1971\n",
      "4    5   univesity5          USA  1861\n",
      "5    6   univesity6      Germany  1386\n",
      "6    7   univesity7      England  1209\n",
      "7    8   univesity8        Spain  1886\n",
      "8    9   univesity9       France  1530\n",
      "9   10  univesity10       Canada  1910\n",
      "10  11  univesity11    Australia  1902\n",
      "11  12  univesity12          USA  1890\n",
      "12  13  univesity13          USA  1885\n",
      "13  14  univesity14       Norway  1994\n",
      "14  15  univesity15       Sweden  1477\n",
      "15  16  univesity16      England  1977\n",
      "16  17  univesity17      Austria  1622\n",
      "17  18  univesity18      Germany  1966\n",
      "18  19  univesity19      Germany  1825\n",
      "19  20  univesity20        Spain  1608\n",
      "20  21  univesity21  Netherlands  1575\n",
      "21  22  univesity22      Austria  1669\n",
      "22  23  univesity23       Poland  1816\n",
      "23  24  univesity24      England  1832\n",
      "24  25  univesity25      Germany  1962\n"
     ]
    }
   ],
   "source": [
    "import pandas as pd \n",
    "\n",
    "#Pfad für die Daten festlegen\n",
    "pfad = \"https://raw.githubusercontent.com/sven-os/assignments-data/data/01%20Assignment%20Data-20230721/\"\n",
    "\n",
    "# Die Excel-Dateien \"name.xlsx\", \"land.xlsx\" und \"year.xlsx\" werden aus den angegebenen Pfaden geladen.\n",
    "names = pd.read_excel(pfad + \"name.xlsx\")\n",
    "lands = pd.read_excel(pfad + \"land.xlsx\")\n",
    "years = pd.read_excel(pfad + \"year.xlsx\")\n",
    "\n",
    "# Die Daten aus den drei DataFrames werden anhand der Spalte \"id\" gejoint.\n",
    "merge = pd.merge(names, lands, on = \"id\")\n",
    "merge = pd.merge(merge, years, on = \"id\")\n",
    "\n",
    "print(merge)#Das zusammengeführte Dataframe wird ausgegeben. "
   ]
  },
  {
   "cell_type": "markdown",
   "id": "ff95da31",
   "metadata": {},
   "source": [
    "### 5.2 \n",
    "The following list of dictionaries given:\n",
    "\n",
    "    list_of_colleagues = [\n",
    "     {'Name': 'Mike' , 'Age': 42, 'role': \"Support Technician\"},\n",
    "     {'Name': 'James', 'Age': 32, 'role': \"Project Manager\"},\n",
    "     {'Name': 'Tamara', 'Age': 26, 'role': \"Marketing specialist\"},\n",
    "     {'Name': 'Samantha' , 'Age': 29, 'role': \"Software Developer\"},\n",
    "     {'Name': 'Alex' , 'Age': 31, 'role': \"UX/UI Designer\"},\n",
    "    ]\n",
    "    \n",
    "Create a DataFrame from this list."
   ]
  },
  {
   "cell_type": "code",
   "execution_count": 14,
   "id": "06809e9d",
   "metadata": {},
   "outputs": [
    {
     "name": "stdout",
     "output_type": "stream",
     "text": [
      "       Name  Age                  role\n",
      "0      Mike   42    Support Technician\n",
      "1     James   32       Project Manager\n",
      "2    Tamara   26  Marketing specialist\n",
      "3  Samantha   29    Software Developer\n",
      "4      Alex   31        UX/UI Designer\n"
     ]
    }
   ],
   "source": [
    "import pandas as pd\n",
    "\n",
    "#Das Dictionary wird erzeugt.\n",
    "list_of_colleagues = [\n",
    " {'Name': 'Mike' , 'Age': 42, 'role': \"Support Technician\"},\n",
    " {'Name': 'James', 'Age': 32, 'role': \"Project Manager\"},\n",
    " {'Name': 'Tamara', 'Age': 26, 'role': \"Marketing specialist\"},\n",
    " {'Name': 'Samantha' , 'Age': 29, 'role': \"Software Developer\"},\n",
    " {'Name': 'Alex' , 'Age': 31, 'role': \"UX/UI Designer\"},\n",
    " ]\n",
    "\n",
    "#Das Dictionary wird in ein Dataframe umgewandelt und danach ausgegeben.\n",
    "list_of_colleagues_df = pd.DataFrame(list_of_colleagues)\n",
    "print(list_of_colleagues_df)"
   ]
  },
  {
   "cell_type": "code",
   "execution_count": null,
   "id": "9e1ca953",
   "metadata": {},
   "outputs": [],
   "source": []
  }
 ],
 "metadata": {
  "kernelspec": {
   "display_name": "Python 3 (ipykernel)",
   "language": "python",
   "name": "python3"
  },
  "language_info": {
   "codemirror_mode": {
    "name": "ipython",
    "version": 3
   },
   "file_extension": ".py",
   "mimetype": "text/x-python",
   "name": "python",
   "nbconvert_exporter": "python",
   "pygments_lexer": "ipython3",
   "version": "3.11.3"
  }
 },
 "nbformat": 4,
 "nbformat_minor": 5
}
